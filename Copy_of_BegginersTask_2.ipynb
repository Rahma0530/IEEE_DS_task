{
  "nbformat": 4,
  "nbformat_minor": 0,
  "metadata": {
    "colab": {
      "provenance": []
    },
    "kernelspec": {
      "name": "python3",
      "display_name": "Python 3"
    },
    "language_info": {
      "name": "python"
    }
  },
  "cells": [
    {
      "cell_type": "markdown",
      "source": [
        "#**Task_2  ^_^**\n",
        "\n",
        "---"
      ],
      "metadata": {
        "id": "HqjLIidRrJI4"
      }
    },
    {
      "cell_type": "markdown",
      "source": [
        "# <font color='red'> 1) Mark down all the Valid function-calls for this function: </font>\n",
        "\n",
        "\n",
        "# def fun1(name, age):<br> ..... print(name,age)\n",
        "\n",
        "\n",
        "\n",
        "\n",
        "\n",
        "\n",
        "<br> </br>\n",
        "#### A) fun1( \"Emma\"  ,  23 )\n",
        "<br> </br>\n",
        "#### B) fun1( age = 23  ,  name = \"Emma\" )\n",
        "<br> </br>\n",
        "#### C) fun1( \"Emma\"  ,  age = 23 )\n",
        "<br> </br>\n",
        "#### D) fun1( name = \"Emma\" ,  23 )\n",
        "<br> </br>\n",
        "#### E) fun1( age = 23  ,  \"Emma\" )"
      ],
      "metadata": {
        "id": "W3zZBdg0raRU"
      }
    },
    {
      "cell_type": "code",
      "source": [
        "A = True #@param {type:\"boolean\"}\n",
        "B = True #@param {type:\"boolean\"}\n",
        "C = True #@param {type:\"boolean\"}\n",
        "D = False #@param {type:\"boolean\"}\n",
        "E = False #@param {type:\"boolean\"}"
      ],
      "metadata": {
        "id": "oUiqgPmFr3Y5"
      },
      "execution_count": null,
      "outputs": []
    },
    {
      "cell_type": "markdown",
      "source": [
        "# <font color='red'> 2) Debug the following code and correct the Error to make the output = 15: </font>\n",
        "\n",
        "\n",
        "    \n",
        "    def outer_fun(a, b , c):\n",
        "        def inner_fun(d , e):\n",
        "            return d + e\n",
        "\n",
        "        return inner_fun(a, b , c)\n",
        "        return a\n",
        "\n",
        "    result = outer_fun(5, 10)\n",
        "    print(result)"
      ],
      "metadata": {
        "id": "iQIcizgYsGJ-"
      }
    },
    {
      "cell_type": "code",
      "source": [
        "def outer_fun(a, b):\n",
        "    def inner_fun(d , e):\n",
        "        return d + e\n",
        "\n",
        "    return inner_fun(a, b)\n",
        "    return a\n",
        "\n",
        "result = outer_fun(5, 10)\n",
        "print(result)"
      ],
      "metadata": {
        "id": "Nhi1O8T9sUwM",
        "colab": {
          "base_uri": "https://localhost:8080/"
        },
        "outputId": "968105dd-8a0d-43a1-f3a0-648395632165"
      },
      "execution_count": null,
      "outputs": [
        {
          "output_type": "stream",
          "name": "stdout",
          "text": [
            "15\n"
          ]
        }
      ]
    },
    {
      "cell_type": "code",
      "source": [],
      "metadata": {
        "id": "LHfUftHysbQw"
      },
      "execution_count": null,
      "outputs": []
    },
    {
      "cell_type": "markdown",
      "source": [
        "# <font color='red'> 3) Debug the following code and correct the Error to make the output = 16: </font>\n",
        "\n",
        "    def f1(x):\n",
        "        global x\n",
        "        x+=1\n",
        "        print(x)\n",
        "    f1(15)"
      ],
      "metadata": {
        "id": "AYpH9KvysT7D"
      }
    },
    {
      "cell_type": "code",
      "source": [
        "def f1(x):\n",
        "    x\n",
        "    x+=1\n",
        "    print(x)\n",
        "f1(15)"
      ],
      "metadata": {
        "id": "H6ZiDEOcsc8J",
        "colab": {
          "base_uri": "https://localhost:8080/"
        },
        "outputId": "2977779c-4fd6-4e56-be3f-a045f69d0cd9"
      },
      "execution_count": null,
      "outputs": [
        {
          "output_type": "stream",
          "name": "stdout",
          "text": [
            "16\n"
          ]
        }
      ]
    },
    {
      "cell_type": "code",
      "source": [],
      "metadata": {
        "id": "87FowQ96scTC"
      },
      "execution_count": null,
      "outputs": []
    },
    {
      "cell_type": "markdown",
      "source": [
        "# <font color='red'> 4) Write a function that takes any variable \"n\" and return its factorial: </font>\n",
        "\n",
        "##### **hint:** factorial of 5 = 5 x 4 x 3 x 2 x **1**"
      ],
      "metadata": {
        "id": "DO43cMEjsdxb"
      }
    },
    {
      "cell_type": "code",
      "source": [
        "def factorial(n):\n",
        "    if n == 0:\n",
        "        return 1\n",
        "    else:\n",
        "        return n * factorial(n-1)\n",
        "n=int(input(\"Input a number to compute the factiorial : \"))\n",
        "print(factorial(n))"
      ],
      "metadata": {
        "id": "HDOOP5Xlsk2a",
        "colab": {
          "base_uri": "https://localhost:8080/",
          "height": 710
        },
        "outputId": "479d0831-b17f-4f95-a02f-39e9fb739b5c"
      },
      "execution_count": null,
      "outputs": [
        {
          "output_type": "error",
          "ename": "KeyboardInterrupt",
          "evalue": "ignored",
          "traceback": [
            "\u001b[0;31m---------------------------------------------------------------------------\u001b[0m",
            "\u001b[0;31mKeyboardInterrupt\u001b[0m                         Traceback (most recent call last)",
            "\u001b[0;32m<ipython-input-4-a887fc9c61d4>\u001b[0m in \u001b[0;36m<cell line: 6>\u001b[0;34m()\u001b[0m\n\u001b[1;32m      4\u001b[0m     \u001b[0;32melse\u001b[0m\u001b[0;34m:\u001b[0m\u001b[0;34m\u001b[0m\u001b[0;34m\u001b[0m\u001b[0m\n\u001b[1;32m      5\u001b[0m         \u001b[0;32mreturn\u001b[0m \u001b[0mn\u001b[0m \u001b[0;34m*\u001b[0m \u001b[0mfactorial\u001b[0m\u001b[0;34m(\u001b[0m\u001b[0mn\u001b[0m\u001b[0;34m-\u001b[0m\u001b[0;36m1\u001b[0m\u001b[0;34m)\u001b[0m\u001b[0;34m\u001b[0m\u001b[0;34m\u001b[0m\u001b[0m\n\u001b[0;32m----> 6\u001b[0;31m \u001b[0mn\u001b[0m\u001b[0;34m=\u001b[0m\u001b[0mint\u001b[0m\u001b[0;34m(\u001b[0m\u001b[0minput\u001b[0m\u001b[0;34m(\u001b[0m\u001b[0;34m\"Input a number to compute the factiorial : \"\u001b[0m\u001b[0;34m)\u001b[0m\u001b[0;34m)\u001b[0m\u001b[0;34m\u001b[0m\u001b[0;34m\u001b[0m\u001b[0m\n\u001b[0m\u001b[1;32m      7\u001b[0m \u001b[0mprint\u001b[0m\u001b[0;34m(\u001b[0m\u001b[0mfactorial\u001b[0m\u001b[0;34m(\u001b[0m\u001b[0mn\u001b[0m\u001b[0;34m)\u001b[0m\u001b[0;34m)\u001b[0m\u001b[0;34m\u001b[0m\u001b[0;34m\u001b[0m\u001b[0m\n",
            "\u001b[0;32m/usr/local/lib/python3.10/dist-packages/ipykernel/kernelbase.py\u001b[0m in \u001b[0;36mraw_input\u001b[0;34m(self, prompt)\u001b[0m\n\u001b[1;32m    849\u001b[0m                 \u001b[0;34m\"raw_input was called, but this frontend does not support input requests.\"\u001b[0m\u001b[0;34m\u001b[0m\u001b[0;34m\u001b[0m\u001b[0m\n\u001b[1;32m    850\u001b[0m             )\n\u001b[0;32m--> 851\u001b[0;31m         return self._input_request(str(prompt),\n\u001b[0m\u001b[1;32m    852\u001b[0m             \u001b[0mself\u001b[0m\u001b[0;34m.\u001b[0m\u001b[0m_parent_ident\u001b[0m\u001b[0;34m,\u001b[0m\u001b[0;34m\u001b[0m\u001b[0;34m\u001b[0m\u001b[0m\n\u001b[1;32m    853\u001b[0m             \u001b[0mself\u001b[0m\u001b[0;34m.\u001b[0m\u001b[0m_parent_header\u001b[0m\u001b[0;34m,\u001b[0m\u001b[0;34m\u001b[0m\u001b[0;34m\u001b[0m\u001b[0m\n",
            "\u001b[0;32m/usr/local/lib/python3.10/dist-packages/ipykernel/kernelbase.py\u001b[0m in \u001b[0;36m_input_request\u001b[0;34m(self, prompt, ident, parent, password)\u001b[0m\n\u001b[1;32m    893\u001b[0m             \u001b[0;32mexcept\u001b[0m \u001b[0mKeyboardInterrupt\u001b[0m\u001b[0;34m:\u001b[0m\u001b[0;34m\u001b[0m\u001b[0;34m\u001b[0m\u001b[0m\n\u001b[1;32m    894\u001b[0m                 \u001b[0;31m# re-raise KeyboardInterrupt, to truncate traceback\u001b[0m\u001b[0;34m\u001b[0m\u001b[0;34m\u001b[0m\u001b[0m\n\u001b[0;32m--> 895\u001b[0;31m                 \u001b[0;32mraise\u001b[0m \u001b[0mKeyboardInterrupt\u001b[0m\u001b[0;34m(\u001b[0m\u001b[0;34m\"Interrupted by user\"\u001b[0m\u001b[0;34m)\u001b[0m \u001b[0;32mfrom\u001b[0m \u001b[0;32mNone\u001b[0m\u001b[0;34m\u001b[0m\u001b[0;34m\u001b[0m\u001b[0m\n\u001b[0m\u001b[1;32m    896\u001b[0m             \u001b[0;32mexcept\u001b[0m \u001b[0mException\u001b[0m \u001b[0;32mas\u001b[0m \u001b[0me\u001b[0m\u001b[0;34m:\u001b[0m\u001b[0;34m\u001b[0m\u001b[0;34m\u001b[0m\u001b[0m\n\u001b[1;32m    897\u001b[0m                 \u001b[0mself\u001b[0m\u001b[0;34m.\u001b[0m\u001b[0mlog\u001b[0m\u001b[0;34m.\u001b[0m\u001b[0mwarning\u001b[0m\u001b[0;34m(\u001b[0m\u001b[0;34m\"Invalid Message:\"\u001b[0m\u001b[0;34m,\u001b[0m \u001b[0mexc_info\u001b[0m\u001b[0;34m=\u001b[0m\u001b[0;32mTrue\u001b[0m\u001b[0;34m)\u001b[0m\u001b[0;34m\u001b[0m\u001b[0;34m\u001b[0m\u001b[0m\n",
            "\u001b[0;31mKeyboardInterrupt\u001b[0m: Interrupted by user"
          ]
        }
      ]
    },
    {
      "cell_type": "code",
      "source": [],
      "metadata": {
        "id": "1QYBK580skq8"
      },
      "execution_count": null,
      "outputs": []
    },
    {
      "cell_type": "markdown",
      "source": [
        "# <font color='red'> 5) Write a code to print the following dictionary after: </font>\n",
        "* # Ordering the values of each Key and the print the key witht highest value.\n",
        "\n",
        "\n",
        "> **`dict ={ \"Ahmed\": (50 , 30 , 40) , \"Mohammed\": (15 , 10 , 25) , \"Khaled\": (10 , 40 , 20) }`**\n",
        "\n",
        "\n",
        "# The output should be:\n",
        "* `{\"Ahmed\": (50 , 40 , 30) , \"Mohammed\": (25 , 15 , 10) , \"Khaled\": (40 , 20 , 10)}`\n",
        "* `Ahmed`"
      ],
      "metadata": {
        "id": "Iqkj_-JXslnv"
      }
    },
    {
      "cell_type": "code",
      "source": [
        "myDict = {\"Ahmed\": (50 , 40 , 30) , \"Mohammed\": (25 , 15 , 10) , \"Khaled\": (40 , 20 , 10)}\n",
        "myKeys = list(myDict.keys())\n",
        "myKeys1 = list(myDict.values())\n",
        "\n",
        "myKeys.sort()\n",
        "sorted_dict = {i: myDict[i] for i in myKeys}\n",
        "\n",
        "print(sorted_dict)\n",
        "print(myKeys[myKeys1.index(max(myKeys1))])"
      ],
      "metadata": {
        "id": "4KukOajzst0n",
        "colab": {
          "base_uri": "https://localhost:8080/"
        },
        "outputId": "14b4643e-ba13-473d-e016-0963929588b2"
      },
      "execution_count": null,
      "outputs": [
        {
          "output_type": "stream",
          "name": "stdout",
          "text": [
            "{'Ahmed': (50, 40, 30), 'Khaled': (40, 20, 10), 'Mohammed': (25, 15, 10)}\n",
            "Ahmed\n"
          ]
        }
      ]
    },
    {
      "cell_type": "code",
      "source": [],
      "metadata": {
        "id": "a-iNbiItstos"
      },
      "execution_count": null,
      "outputs": []
    },
    {
      "cell_type": "markdown",
      "source": [
        "# <font color='red'> 6) Write a Python function that accepts a string and counts the number of upper and lower case letters. </font>\n",
        "* ## Sample String : \"Do not Postpone today's Work To tomoRRow\"\n",
        "\n",
        "# Expected Output :\n",
        "* `No. of Upper case characters :  6`\n",
        "* `No. of Lower case Characters :  27 `\n",
        "\n",
        "\n",
        "\n",
        "\n",
        "\n"
      ],
      "metadata": {
        "id": "JIDxmPLrteLT"
      }
    },
    {
      "cell_type": "code",
      "source": [
        "def string1(string):\n",
        "    d={\"UPPER_CASE\":0, \"LOWER_CASE\":0}\n",
        "    for i in string:\n",
        "        if i.isupper():\n",
        "           d[\"UPPER_CASE\"]+=1\n",
        "        elif i.islower():\n",
        "           d[\"LOWER_CASE\"]+=1\n",
        "        else:\n",
        "           pass\n",
        "    print (\"Original String : \", string)\n",
        "    print (\"No. of Upper case characters : \", d[\"UPPER_CASE\"])\n",
        "    print (\"No. of Lower case Characters : \", d[\"LOWER_CASE\"])\n",
        "\n",
        "string1(\"Do not Postpone today's Work To tomoRRow\")"
      ],
      "metadata": {
        "id": "P3csHw_ZuowG",
        "colab": {
          "base_uri": "https://localhost:8080/"
        },
        "outputId": "716fca1e-752b-48f9-975c-708b7358115d"
      },
      "execution_count": null,
      "outputs": [
        {
          "output_type": "stream",
          "name": "stdout",
          "text": [
            "Original String :  Do not Postpone today's Work To tomoRRow\n",
            "No. of Upper case characters :  6\n",
            "No. of Lower case Characters :  27\n"
          ]
        }
      ]
    },
    {
      "cell_type": "code",
      "source": [],
      "metadata": {
        "id": "5JhkNZFEuoqb"
      },
      "execution_count": null,
      "outputs": []
    },
    {
      "cell_type": "markdown",
      "source": [
        "# <font color='red'> 7) Write a Python function that two numbers N & M and print the summation of their last digits . </font>\n",
        "\n",
        "# * `Input :  13  12`\n",
        "# * `Output: 5`"
      ],
      "metadata": {
        "id": "nzWE8GrKusWX"
      }
    },
    {
      "cell_type": "code",
      "source": [
        "def summation(n , m):\n",
        "\n",
        "    str_n = str(n)\n",
        "    str_m = str(m)\n",
        "\n",
        "\n",
        "    n = int(str_n[-1])\n",
        "    m = int(str_m[-1])\n",
        "\n",
        "\n",
        "    sum = n + m\n",
        "    return sum\n",
        "#Example\n",
        "n = 13\n",
        "m = 12\n",
        "result= summation(n , m)\n",
        "print(result)"
      ],
      "metadata": {
        "id": "CoVidok6wP4n"
      },
      "execution_count": null,
      "outputs": []
    },
    {
      "cell_type": "code",
      "source": [
        "def summation(n , m):\n",
        "\n",
        "    str_n = str(n)\n",
        "    str_m = str(m)\n",
        "\n",
        "\n",
        "    n = input (int(str_n[-1]))\n",
        "    m = input (int(str_m[-1]))\n",
        "\n",
        "\n",
        "    sum = n + m\n",
        "    return sum\n",
        "#Example\n",
        "summation(n , m)"
      ],
      "metadata": {
        "id": "xeVfv60iwP1N"
      },
      "execution_count": null,
      "outputs": []
    },
    {
      "cell_type": "markdown",
      "source": [
        "# <font color='red'> **Solve these problems with python**:<br>\n",
        "<a href='https://codeforces.com/group/6Yv6FRlDFU/contest/327653/problem/C'> **problem 1** </a> </font>\n",
        "    <br>\n",
        "    <br>\n",
        "<a href='https://codeforces.com/group/6Yv6FRlDFU/contest/327653/problem/A'> **problem 2** </a> </font>"
      ],
      "metadata": {
        "id": "-DK6SmIpsuhs"
      }
    },
    {
      "cell_type": "markdown",
      "source": [
        "# <font color='red'> 8) Your input is corresponding to a person's age (in days). print his age in years, months and days, followed by its respective message \"years\", \"months\" and \"days\" . </font>\n",
        "\n",
        "# * `Input :  400`\n",
        "# * `Output:  1 year  1 months  5 days`"
      ],
      "metadata": {
        "id": "GFVRG4HywQxr"
      }
    },
    {
      "cell_type": "code",
      "source": [
        "def calculate_age(d):\n",
        "    int years=(d / 365) +\"years\"\n",
        "    int months=(d % 365 / 30) +\"months\"\n",
        "    int days= (d % 365 % 30) +\"days\"\n",
        "    age = years + months + days\n",
        "      return age\n",
        "d= input(\"inter number of days : \")\n",
        "print(calculate_age(d))"
      ],
      "metadata": {
        "colab": {
          "base_uri": "https://localhost:8080/",
          "height": 148
        },
        "id": "7QrZPCWCq3ge",
        "outputId": "2292410e-0e1d-4ae5-8212-9ffa70a41cc3"
      },
      "execution_count": null,
      "outputs": [
        {
          "output_type": "error",
          "ename": "SyntaxError",
          "evalue": "ignored",
          "traceback": [
            "\u001b[0;36m  File \u001b[0;32m\"<ipython-input-25-2af5af5a0d70>\"\u001b[0;36m, line \u001b[0;32m2\u001b[0m\n\u001b[0;31m    int years=(d / 365) +\"years\"\u001b[0m\n\u001b[0m        ^\u001b[0m\n\u001b[0;31mSyntaxError\u001b[0m\u001b[0;31m:\u001b[0m invalid syntax\n"
          ]
        }
      ]
    },
    {
      "cell_type": "code",
      "source": [
        "# problem_1 Link"
      ],
      "metadata": {
        "id": "WWY0KOEFtPQd"
      },
      "execution_count": null,
      "outputs": []
    },
    {
      "cell_type": "code",
      "source": [
        "https://codeforces.com/group/6Yv6FRlDFU/contest/327653/my"
      ],
      "metadata": {
        "id": "6hITO3GAta6P"
      },
      "execution_count": null,
      "outputs": []
    },
    {
      "cell_type": "code",
      "source": [
        "# problem_2 Link"
      ],
      "metadata": {
        "id": "fbcnnzhEtPE4"
      },
      "execution_count": null,
      "outputs": []
    },
    {
      "cell_type": "code",
      "source": [
        "https://codeforces.com/group/6Yv6FRlDFU/contest/327653/my"
      ],
      "metadata": {
        "id": "e1XcNAVUtb0i"
      },
      "execution_count": null,
      "outputs": []
    },
    {
      "cell_type": "code",
      "source": [],
      "metadata": {
        "id": "zJmvis7Nq1S4"
      },
      "execution_count": null,
      "outputs": []
    }
  ]
}